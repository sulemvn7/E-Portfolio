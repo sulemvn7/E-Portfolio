{
 "cells": [
  {
   "cell_type": "code",
   "execution_count": 1,
   "id": "eb3ed110-e498-4603-b267-5a5ff2bdd850",
   "metadata": {},
   "outputs": [
    {
     "name": "stdout",
     "output_type": "stream",
     "text": [
      "The IP Address of the website amazon.com is 54.239.28.85\n",
      "The IP Address of the website github.com is 20.26.156.215\n",
      "The IP Address of the website youtube.com is 142.250.129.136\n"
     ]
    }
   ],
   "source": [
    "import socket\n",
    "\n",
    "def get_IP_address(website_URL):\n",
    "    try:\n",
    "        ip_address = socket.gethostbyname(website_URL)\n",
    "        print(f\"The IP Address of the website {website_URL} is {ip_address}\")\n",
    "    except socket.gaierror:\n",
    "        print(f\"Sorry, unable to get IP Address for {website_URL}\")\n",
    "\n",
    "# List of websites to resolve\n",
    "websites = [\"amazon.com\", \"github.com\", \"youtube.com\"]\n",
    "\n",
    "# Loop through the list and get IP addresses\n",
    "for site in websites:\n",
    "    get_IP_address(site)\n",
    "\n"
   ]
  },
  {
   "cell_type": "code",
   "execution_count": null,
   "id": "74b761dc-cf4a-4779-9d26-f5a67c0ceb76",
   "metadata": {},
   "outputs": [],
   "source": []
  }
 ],
 "metadata": {
  "kernelspec": {
   "display_name": "Python 3 (ipykernel)",
   "language": "python",
   "name": "python3"
  },
  "language_info": {
   "codemirror_mode": {
    "name": "ipython",
    "version": 3
   },
   "file_extension": ".py",
   "mimetype": "text/x-python",
   "name": "python",
   "nbconvert_exporter": "python",
   "pygments_lexer": "ipython3",
   "version": "3.11.13"
  }
 },
 "nbformat": 4,
 "nbformat_minor": 5
}
