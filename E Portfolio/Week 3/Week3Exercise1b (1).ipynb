{
 "cells": [
  {
   "cell_type": "code",
   "execution_count": 1,
   "id": "320bfa48-bdeb-45fb-8241-3a56e3903da6",
   "metadata": {},
   "outputs": [
    {
     "name": "stdin",
     "output_type": "stream",
     "text": [
      "🌐 Enter a website or IP to trace:  amazon.com\n"
     ]
    },
    {
     "name": "stdout",
     "output_type": "stream",
     "text": [
      "\n",
      "Starting traceroute for: amazon.com\n",
      "--------------------------------------------------\n",
      "\n",
      "Tracing route to amazon.com [52.94.236.248]\n",
      "over a maximum of 30 hops:\n",
      "\n",
      "1     3 ms     7 ms     6 ms  SkyRouter.Home [192.168.0.1]\n",
      "2     6 ms     4 ms     7 ms  2.127.238.242\n",
      "3    10 ms     6 ms     5 ms  2.120.14.251\n",
      "4     7 ms     5 ms     8 ms  2.120.13.155\n",
      "5    76 ms    74 ms    75 ms  ae19.cr3-nyc6.ip4.gtt.net [213.200.119.186]\n",
      "6     *        *        *     Request timed out.\n",
      "7     *        *        *     Request timed out.\n",
      "8     *        *        *     Request timed out.\n",
      "9     *        *        *     Request timed out.\n",
      "10     *        *        *     Request timed out.\n",
      "11     *        *        *     Request timed out.\n",
      "12     *        *        *     Request timed out.\n",
      "13     *        *        *     Request timed out.\n",
      "14     *        *        *     Request timed out.\n",
      "15     *        *        *     Request timed out.\n",
      "16     *        *        *     Request timed out.\n",
      "17     *        *        *     Request timed out.\n",
      "18     *        *        *     Request timed out.\n",
      "19    94 ms    92 ms    92 ms  52.94.236.248\n",
      "\n",
      "Trace complete.\n"
     ]
    }
   ],
   "source": [
    "import subprocess\n",
    "\n",
    "def perform_tracert(domain):\n",
    "    try:\n",
    "        print(f\"\\nStarting traceroute for: {domain}\\n\" + \"-\"*50)\n",
    "        process = subprocess.Popen(\n",
    "            [\"tracert\", domain],\n",
    "            stdout=subprocess.PIPE,\n",
    "            stderr=subprocess.PIPE,\n",
    "            text=True\n",
    "        )\n",
    "\n",
    "        # Stream output live, line-by-line\n",
    "        for line in process.stdout:\n",
    "            print(line.strip())\n",
    "\n",
    "        # Wait for completion and check for errors\n",
    "        _, error = process.communicate()\n",
    "        if error:\n",
    "            print(f\"\\n⚠️ Error: {error.strip()}\")\n",
    "\n",
    "    except FileNotFoundError:\n",
    "        print(\"❌ 'tracert' command not found. Make sure you are running this on Windows.\")\n",
    "    except Exception as e:\n",
    "        print(f\"⚠️ An unexpected error occurred: {e}\")\n",
    "\n",
    "# Get input from user\n",
    "domain_input = input(\"🌐 Enter a website or IP to trace: \").strip()\n",
    "if domain_input:\n",
    "    perform_tracert(domain_input)\n",
    "else:\n",
    "    print(\"❌ Invalid input. Please enter a valid domain name.\")\n"
   ]
  },
  {
   "cell_type": "code",
   "execution_count": null,
   "id": "b1314be6-3ebf-4edb-b406-d68bfc30c1ff",
   "metadata": {},
   "outputs": [],
   "source": []
  }
 ],
 "metadata": {
  "kernelspec": {
   "display_name": "Python 3 (ipykernel)",
   "language": "python",
   "name": "python3"
  },
  "language_info": {
   "codemirror_mode": {
    "name": "ipython",
    "version": 3
   },
   "file_extension": ".py",
   "mimetype": "text/x-python",
   "name": "python",
   "nbconvert_exporter": "python",
   "pygments_lexer": "ipython3",
   "version": "3.11.13"
  }
 },
 "nbformat": 4,
 "nbformat_minor": 5
}
