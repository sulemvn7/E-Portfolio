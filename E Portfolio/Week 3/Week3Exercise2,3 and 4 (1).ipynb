{
 "cells": [
  {
   "cell_type": "code",
   "execution_count": null,
   "id": "1cbfe6ff-220b-49f5-8816-545b7394fd05",
   "metadata": {},
   "outputs": [
    {
     "name": "stdout",
     "output_type": "stream",
     "text": [
      "Tracing route to: amazon.com\n",
      "\n",
      "\n",
      "Tracing route to amazon.com [205.251.242.103]\n",
      "over a maximum of 30 hops:\n",
      "\n",
      "1     5 ms     1 ms     4 ms  SkyRouter.Home [192.168.0.1]\n",
      "2     5 ms     3 ms     3 ms  2.127.238.242\n",
      "3     5 ms     4 ms     5 ms  2.120.14.247\n"
     ]
    }
   ],
   "source": [
    "import subprocess\n",
    "\n",
    "def run_tracert(domain):\n",
    "    try:\n",
    "        command = [\"tracert\", domain]\n",
    "        result = subprocess.Popen(command, stdout=subprocess.PIPE, stderr=subprocess.PIPE, text=True)\n",
    "\n",
    "        print(f\"Tracing route to: {domain}\\n\")\n",
    "        while True:\n",
    "            line = result.stdout.readline()\n",
    "            if not line:\n",
    "                break\n",
    "            print(line.strip())\n",
    "\n",
    "        # Check for any errors\n",
    "        _, error = result.communicate()\n",
    "        if error:\n",
    "            print(f\"Error encountered: {error.strip()}\")\n",
    "\n",
    "    except FileNotFoundError:\n",
    "        print(\"Error: 'tracert' command not found. Are you on Windows?\")\n",
    "    except Exception as e:\n",
    "        print(f\"Unexpected error: {e}\")\n",
    "\n",
    "# Example domains to trace\n",
    "targets = [\"amazon.com\", \"github.com\", \"youtube.com\"]\n",
    "for target in targets:\n",
    "    run_tracert(target)\n",
    "    print(\"-\" * 60)\n"
   ]
  },
  {
   "cell_type": "code",
   "execution_count": null,
   "id": "3f7e8dab-28a2-4413-8b3f-dfacd4809359",
   "metadata": {},
   "outputs": [],
   "source": []
  }
 ],
 "metadata": {
  "kernelspec": {
   "display_name": "Python 3 (ipykernel)",
   "language": "python",
   "name": "python3"
  },
  "language_info": {
   "codemirror_mode": {
    "name": "ipython",
    "version": 3
   },
   "file_extension": ".py",
   "mimetype": "text/x-python",
   "name": "python",
   "nbconvert_exporter": "python",
   "pygments_lexer": "ipython3",
   "version": "3.11.13"
  }
 },
 "nbformat": 4,
 "nbformat_minor": 5
}
