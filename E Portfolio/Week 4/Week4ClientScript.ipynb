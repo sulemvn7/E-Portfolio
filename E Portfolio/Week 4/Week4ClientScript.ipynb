{
 "cells": [
  {
   "cell_type": "code",
   "execution_count": 2,
   "id": "571cff6b-394c-4707-b8b8-dfd60189be04",
   "metadata": {},
   "outputs": [
    {
     "name": "stdin",
     "output_type": "stream",
     "text": [
      "Enter your username:  diueie\n",
      "Enter your password:  dmedode\n"
     ]
    },
    {
     "ename": "ConnectionResetError",
     "evalue": "[WinError 10054] An existing connection was forcibly closed by the remote host",
     "output_type": "error",
     "traceback": [
      "\u001b[31m---------------------------------------------------------------------------\u001b[39m",
      "\u001b[31mConnectionResetError\u001b[39m                      Traceback (most recent call last)",
      "\u001b[36mCell\u001b[39m\u001b[36m \u001b[39m\u001b[32mIn[2]\u001b[39m\u001b[32m, line 32\u001b[39m\n\u001b[32m     29\u001b[39m client_socket.sendto(auth_message.encode(), server_address)\n\u001b[32m     31\u001b[39m \u001b[38;5;66;03m#response to authentication:\u001b[39;00m\n\u001b[32m---> \u001b[39m\u001b[32m32\u001b[39m data,_ = client_socket.recvfrom(\u001b[32m2048\u001b[39m)\n\u001b[32m     33\u001b[39m response = data.decode()\n\u001b[32m     35\u001b[39m \u001b[38;5;28;01mif\u001b[39;00m response == \u001b[33m\"\u001b[39m\u001b[33mAUTH_SUCCESS\u001b[39m\u001b[33m\"\u001b[39m:\n",
      "\u001b[31mConnectionResetError\u001b[39m: [WinError 10054] An existing connection was forcibly closed by the remote host"
     ]
    }
   ],
   "source": [
    "import socket\n",
    "import threading\n",
    "\n",
    "# --- Encryption / Decryption ---\n",
    "def encrypt(text, key=3):\n",
    "    return ''.join(\n",
    "        chr((ord(c) - 32 + key) % 95 + 32) if c.isprintable() else c\n",
    "        for c in text\n",
    "    )\n",
    "\n",
    "def decrypt(text, key=3):\n",
    "    return ''.join(\n",
    "        chr((ord(c) - 32 - key) % 95 + 32) if c.isprintable() else c\n",
    "        for c in text\n",
    "    )\n",
    "\n",
    "# --- Receive Thread ---\n",
    "def listen_for_messages(sock):\n",
    "    while True:\n",
    "        try:\n",
    "            data, _ = sock.recvfrom(2048)\n",
    "            print(\"🔓 \" + decrypt(data.decode()))\n",
    "        except:\n",
    "            print(\"❌ Connection lost.\")\n",
    "            break\n",
    "\n",
    "# --- Setup ---\n",
    "def start_client():\n",
    "    server = (\"localhost\", 65433)\n",
    "    sock = socket.socket(socket.AF_INET, socket.SOCK_DGRAM)\n",
    "\n",
    "    # --- Authentication ---\n",
    "    user = input(\"Username: \")\n",
    "    pwd = input(\"Password: \")\n",
    "    auth = f\"{user}:{pwd}\"\n",
    "    sock.sendto(auth.encode(), server)\n",
    "\n",
    "    # --- Wait for Response ---\n",
    "    try:\n",
    "        data, _ = sock.recvfrom(2048)\n",
    "        if data.decode() != \"AUTH_SUCCESS\":\n",
    "            print(\"🚫 Authentication failed.\")\n",
    "            sock.close()\n",
    "            return\n",
    "    except:\n",
    "        print(\"❌ Could not connect to server.\")\n",
    "        sock.close()\n",
    "        return\n",
    "\n",
    "    print(\"✅ Authenticated! You can now chat. Type 'exit' to quit.\\n\")\n",
    "\n",
    "    # --- Start Listener Thread ---\n",
    "    listener = threading.Thread(target=listen_for_messages, args=(sock,))\n",
    "    listener.daemon = True\n",
    "    listener.start()\n",
    "\n",
    "    # --- Send Loop ---\n",
    "    try:\n",
    "        while True:\n",
    "            msg = input(\"You: \")\n",
    "            if msg.lower() == \"exit\":\n",
    "                print(\"👋 Exiting chat.\")\n",
    "                break\n",
    "            encrypted = encrypt(msg)\n",
    "            sock.sendto(encrypted.encode(), server)\n",
    "    finally:\n",
    "        sock.close()\n",
    "\n",
    "# --- Run ---\n",
    "if __name__ == \"__main__\":\n",
    "    start_client()\n"
   ]
  },
  {
   "cell_type": "code",
   "execution_count": null,
   "id": "e2565265-283b-4231-bacd-3e29af5b0602",
   "metadata": {},
   "outputs": [],
   "source": []
  }
 ],
 "metadata": {
  "kernelspec": {
   "display_name": "Python 3 (ipykernel)",
   "language": "python",
   "name": "python3"
  },
  "language_info": {
   "codemirror_mode": {
    "name": "ipython",
    "version": 3
   },
   "file_extension": ".py",
   "mimetype": "text/x-python",
   "name": "python",
   "nbconvert_exporter": "python",
   "pygments_lexer": "ipython3",
   "version": "3.11.13"
  }
 },
 "nbformat": 4,
 "nbformat_minor": 5
}
