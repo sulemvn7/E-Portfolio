{
 "cells": [
  {
   "cell_type": "code",
   "execution_count": null,
   "id": "d7d74436-29b3-4648-8fd9-6627fe937455",
   "metadata": {},
   "outputs": [],
   "source": [
    "import socket\n",
    "import threading\n",
    "\n",
    "# --- Thread to receive messages ---\n",
    "def listen_for_incoming(server_socket):\n",
    "    while True:\n",
    "        try:\n",
    "            data, address = server_socket.recvfrom(2048)\n",
    "            print(f\"\\n📨 Message from {address}: {data.decode()}\")\n",
    "        except Exception as e:\n",
    "            print(f\"❌ Error receiving message: {e}\")\n",
    "            break\n",
    "\n",
    "# --- Main function ---\n",
    "def start_udp_server():\n",
    "    host = 'localhost'\n",
    "    port = 65433\n",
    "    server = socket.socket(socket.AF_INET, socket.SOCK_DGRAM)\n",
    "    server.bind((host, port))\n",
    "\n",
    "    print(f\"✅ UDP Server is running on {host}:{port}\")\n",
    "    print(\"Type messages to send to yourself (loopback). Type 'quit' to stop.\\n\")\n",
    "\n",
    "    # Start listening thread\n",
    "    listener_thread = threading.Thread(target=listen_for_incoming, args=(server,))\n",
    "    listener_thread.daemon = True\n",
    "    listener_thread.start()\n",
    "\n",
    "    # Message sending loop\n",
    "    try:\n",
    "        while True:\n",
    "            msg = input(\"You: \")\n",
    "            if msg.lower() == \"quit\":\n",
    "                print(\"👋 Server shutting down.\")\n",
    "                break\n",
    "            server.sendto(msg.encode(), (host, port))  # sending to self (loopback)\n",
    "    finally:\n",
    "        server.close()\n",
    "\n",
    "# --- Run ---\n",
    "if __name__ == \"__main__\":\n",
    "    start_udp_server()\n"
   ]
  }
 ],
 "metadata": {
  "kernelspec": {
   "display_name": "Python 3 (ipykernel)",
   "language": "python",
   "name": "python3"
  },
  "language_info": {
   "codemirror_mode": {
    "name": "ipython",
    "version": 3
   },
   "file_extension": ".py",
   "mimetype": "text/x-python",
   "name": "python",
   "nbconvert_exporter": "python",
   "pygments_lexer": "ipython3",
   "version": "3.11.13"
  }
 },
 "nbformat": 4,
 "nbformat_minor": 5
}
