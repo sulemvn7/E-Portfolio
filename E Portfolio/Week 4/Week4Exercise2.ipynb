{
 "cells": [
  {
   "cell_type": "code",
   "execution_count": null,
   "id": "d5c72eeb-f4ea-4617-ac36-19ae6943a4ea",
   "metadata": {},
   "outputs": [],
   "source": [
    "import socket\n",
    "\n",
    "def get_local_ip_info():\n",
    "    info = {}\n",
    "\n",
    "    try:\n",
    "        hostname = socket.gethostname()\n",
    "        ip_address = socket.gethostbyname(hostname)\n",
    "        info['IP Address'] = ip_address\n",
    "        info['Hostname'] = hostname\n",
    "    except socket.error as err:\n",
    "        info['Error'] = f\"Failed to retrieve IP address: {err}\"\n",
    "\n",
    "    return info\n",
    "\n",
    "# Display the dictionary\n",
    "user_info = get_local_ip_info()\n",
    "print(\"📄 User information dictionary:\")\n",
    "for key, value in user_info.items():\n",
    "    print(f\"{key}: {value}\")\n"
   ]
  }
 ],
 "metadata": {
  "kernelspec": {
   "display_name": "Python 3 (ipykernel)",
   "language": "python",
   "name": "python3"
  },
  "language_info": {
   "codemirror_mode": {
    "name": "ipython",
    "version": 3
   },
   "file_extension": ".py",
   "mimetype": "text/x-python",
   "name": "python",
   "nbconvert_exporter": "python",
   "pygments_lexer": "ipython3",
   "version": "3.11.13"
  }
 },
 "nbformat": 4,
 "nbformat_minor": 5
}
