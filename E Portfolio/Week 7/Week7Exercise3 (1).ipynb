{
 "cells": [
  {
   "cell_type": "code",
   "execution_count": 1,
   "id": "20694d68-5bb7-4aae-822f-f80a091d970b",
   "metadata": {},
   "outputs": [
    {
     "name": "stdout",
     "output_type": "stream",
     "text": [
      "The Generated Checksum: 0b1001011110010111\n",
      "The checksum Validation: It has passed\n"
     ]
    }
   ],
   "source": [
    "class OnesComplementChecksum:\n",
    "    def __init__(self, bit_size=16):\n",
    "        self.bit_size = bit_size\n",
    "        self.max_val = (1 << bit_size) - 1\n",
    "\n",
    "    def add(self, a, b):\n",
    "        result = a + b\n",
    "        # Handle carry out of the bit size range (wrap-around)\n",
    "        if result > self.max_val:\n",
    "            result = (result + 1) & self.max_val\n",
    "        return result\n",
    "\n",
    "    def generate(self, data):\n",
    "        checksum = 0\n",
    "        for word in data:\n",
    "            checksum = self.add(checksum, word)\n",
    "        # One's complement\n",
    "        return (~checksum) & self.max_val\n",
    "\n",
    "    def validate(self, data, checksum):\n",
    "        total = checksum\n",
    "        for word in data:\n",
    "            total = self.add(total, word)\n",
    "        # If all bits are 1, checksum is valid\n",
    "        return total == self.max_val\n",
    "\n",
    "# Example usage\n",
    "def main():\n",
    "    data_blocks = [0b1010101010101010, 0b1100110011001100, 0b1111000011110000]\n",
    "\n",
    "    checksum_calc = OnesComplementChecksum(bit_size=16)\n",
    "    checksum = checksum_calc.generate(data_blocks)\n",
    "\n",
    "    print(f\"The Generated Checksum: {bin(checksum)}\")\n",
    "\n",
    "    valid = checksum_calc.validate(data_blocks, checksum)\n",
    "    print(\"The checksum Validation:\", \"It has passed\" if valid else \"Failed\")\n",
    "\n",
    "if __name__ == \"__main__\":\n",
    "    main()\n"
   ]
  },
  {
   "cell_type": "code",
   "execution_count": null,
   "id": "3e41d720-26fa-43e7-a7cc-f0acd3f4993f",
   "metadata": {},
   "outputs": [],
   "source": []
  }
 ],
 "metadata": {
  "kernelspec": {
   "display_name": "Python 3 (ipykernel)",
   "language": "python",
   "name": "python3"
  },
  "language_info": {
   "codemirror_mode": {
    "name": "ipython",
    "version": 3
   },
   "file_extension": ".py",
   "mimetype": "text/x-python",
   "name": "python",
   "nbconvert_exporter": "python",
   "pygments_lexer": "ipython3",
   "version": "3.11.13"
  }
 },
 "nbformat": 4,
 "nbformat_minor": 5
}
