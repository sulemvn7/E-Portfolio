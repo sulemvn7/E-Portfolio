{
 "cells": [
  {
   "cell_type": "code",
   "execution_count": null,
   "id": "70e74f72-e8bf-4e5a-a0a6-88ec1144fc6e",
   "metadata": {},
   "outputs": [],
   "source": [
    "import random\n",
    "import matplotlib.pyplot as plt\n",
    "import numpy as np\n",
    "\n",
    "class SlottedAlohaSimulator:\n",
    "    def __init__(self, num_nodes, num_slots):\n",
    "        self.num_nodes = num_nodes\n",
    "        self.num_slots = num_slots\n",
    "\n",
    "    def run_simulation(self, transmission_probability):\n",
    "        successful_transmissions = 0\n",
    "        for _ in range(self.num_slots):\n",
    "            transmissions_this_slot = sum(\n",
    "                1 for _ in range(self.num_nodes) if random.random() < transmission_probability\n",
    "            )\n",
    "            if transmissions_this_slot == 1:\n",
    "                successful_transmissions += 1\n",
    "        return successful_transmissions / self.num_slots\n",
    "\n",
    "def plot_efficiency(num_nodes, num_slots, resolution=50):\n",
    "    simulator = SlottedAlohaSimulator(num_nodes, num_slots)\n",
    "    transmission_probs = np.linspace(0, 1, resolution)\n",
    "    efficiencies = [simulator.run_simulation(p) for p in transmission_probs]\n",
    "\n",
    "    plt.plot(transmission_probs, efficiencies, marker='o')\n",
    "    plt.xlabel(\"Transmission Probability\")\n",
    "    plt.ylabel(\"Efficiency\")\n",
    "    plt.title(\"Slotted ALOHA Efficiency\")\n",
    "    plt.grid(True)\n",
    "    plt.show()\n",
    "\n",
    "# Example usage:\n",
    "if __name__ == \"__main__\":\n",
    "    nodes = 50\n",
    "    slots = 10000\n",
    "    plot_efficiency(nodes, slots)\n"
   ]
  }
 ],
 "metadata": {
  "kernelspec": {
   "display_name": "Python 3 (ipykernel)",
   "language": "python",
   "name": "python3"
  },
  "language_info": {
   "codemirror_mode": {
    "name": "ipython",
    "version": 3
   },
   "file_extension": ".py",
   "mimetype": "text/x-python",
   "name": "python",
   "nbconvert_exporter": "python",
   "pygments_lexer": "ipython3",
   "version": "3.11.13"
  }
 },
 "nbformat": 4,
 "nbformat_minor": 5
}
