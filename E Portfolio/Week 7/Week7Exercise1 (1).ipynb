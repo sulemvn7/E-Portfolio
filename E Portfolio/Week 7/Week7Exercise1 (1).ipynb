{
 "cells": [
  {
   "cell_type": "code",
   "execution_count": 2,
   "id": "945acc2e-66c2-4922-ac5e-66cc7acdb875",
   "metadata": {},
   "outputs": [
    {
     "name": "stdout",
     "output_type": "stream",
     "text": [
      "The Original Data: [1, 0, 1, 0, 1, 1, 0, 0]\n",
      "The Calculated Even Parity Bit is: 0\n",
      "\n",
      "Transmitted Data: [1, 0, 1, 0, 1, 1, 0, 0, 0]\n",
      "\n",
      "Data with Error at index 4: [1, 0, 1, 0, 0, 1, 0, 0, 0]\n",
      "\n",
      "Error Detected (Parity Check Failed)\n"
     ]
    }
   ],
   "source": [
    "# Function to calculate even parity bit\n",
    "def calculate_even_parity(data_bits):\n",
    "    return sum(data_bits) % 2\n",
    "\n",
    "# Function to transmit data (append parity)\n",
    "def transmit_data(data_bits):\n",
    "    parity_bit = calculate_even_parity(data_bits)\n",
    "    return data_bits + [parity_bit], parity_bit\n",
    "\n",
    "# Function to simulate error at a specific position\n",
    "def introduce_error(data_packet, error_index):\n",
    "    corrupted_data = data_packet.copy()\n",
    "    corrupted_data[error_index] ^= 1  # Flip the bit at the error index\n",
    "    return corrupted_data\n",
    "\n",
    "# Function to check if parity is still valid\n",
    "def check_parity(data_with_parity):\n",
    "    return sum(data_with_parity) % 2 == 0\n",
    "\n",
    "# Main simulation\n",
    "def run_parity_simulation():\n",
    "    original_data = [1, 0, 1, 1, 1, 0, 0, 0]\n",
    "    \n",
    "    transmitted, parity_bit = transmit_data(original_data)\n",
    "    print(\"The Original Data:\", original_data)\n",
    "    print(\"The Calculated Even Parity Bit is:\", parity_bit)\n",
    "    print(\"\\nTransmitted Data:\", transmitted)\n",
    "\n",
    "    # Introduce an error by flipping bit at a specific position\n",
    "    error_position = 4\n",
    "    received_data = introduce_error(transmitted, error_position)\n",
    "    print(f\"\\nData with Error at index {error_position}:\", received_data)\n",
    "\n",
    "    # Receiver checks for errors using parity\n",
    "    if check_parity(received_data):\n",
    "        print(\"\\nNo Errors Detected (Parity Check has been passed)\")\n",
    "    else:\n",
    "        print(\"\\nError Detected (Parity Check Failed)\")\n",
    "\n",
    "# Run the simulation\n",
    "run_parity_simulation()\n"
   ]
  },
  {
   "cell_type": "code",
   "execution_count": null,
   "id": "2ac7e30c-a310-4e1c-a671-b174ac007885",
   "metadata": {},
   "outputs": [],
   "source": []
  }
 ],
 "metadata": {
  "kernelspec": {
   "display_name": "Python 3 (ipykernel)",
   "language": "python",
   "name": "python3"
  },
  "language_info": {
   "codemirror_mode": {
    "name": "ipython",
    "version": 3
   },
   "file_extension": ".py",
   "mimetype": "text/x-python",
   "name": "python",
   "nbconvert_exporter": "python",
   "pygments_lexer": "ipython3",
   "version": "3.11.13"
  }
 },
 "nbformat": 4,
 "nbformat_minor": 5
}
