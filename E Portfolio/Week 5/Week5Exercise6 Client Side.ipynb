{
 "cells": [
  {
   "cell_type": "code",
   "execution_count": 1,
   "id": "05e3e72f-31ef-432e-9bd9-0bfa9fd96bbd",
   "metadata": {},
   "outputs": [
    {
     "name": "stdout",
     "output_type": "stream",
     "text": [
      "[CONNECTED] Successfully connected to the chat server.\n"
     ]
    },
    {
     "name": "stdin",
     "output_type": "stream",
     "text": [
      "Enter message (type 'quit' to exit):  hello\n"
     ]
    },
    {
     "name": "stdout",
     "output_type": "stream",
     "text": [
      "[SERVER MESSAGE] ACK: hello\n"
     ]
    },
    {
     "name": "stdin",
     "output_type": "stream",
     "text": [
      "Enter message (type 'quit' to exit):  quit\n"
     ]
    },
    {
     "name": "stdout",
     "output_type": "stream",
     "text": [
      "[DISCONNECT] Leaving the chat...\n",
      "[ERROR] Lost connection to the server.\n"
     ]
    }
   ],
   "source": [
    "import socket\n",
    "import threading\n",
    "import sys\n",
    "\n",
    "def receive_messages(socket_conn):\n",
    "    while True:\n",
    "        try:\n",
    "            msg = socket_conn.recv(1024)\n",
    "            if not msg:\n",
    "                print(\"[SERVER] Connection closed by server.\")\n",
    "                break\n",
    "            print(f\"[SERVER MESSAGE] {msg.decode()}\")\n",
    "        except Exception:\n",
    "            print(\"[ERROR] Lost connection to the server.\")\n",
    "            break\n",
    "\n",
    "def main():\n",
    "    client_socket = socket.socket(socket.AF_INET, socket.SOCK_STREAM)\n",
    "\n",
    "    try:\n",
    "        client_socket.connect(('127.0.0.1', 65432))\n",
    "        print(\"[CONNECTED] Successfully connected to the chat server.\")\n",
    "    except ConnectionRefusedError as e:\n",
    "        print(f\"[ERROR] Could not connect to server: {e}\")\n",
    "        sys.exit(1)\n",
    "\n",
    "    # Start thread to listen for incoming messages\n",
    "    listener_thread = threading.Thread(target=receive_messages, args=(client_socket,), daemon=True)\n",
    "    listener_thread.start()\n",
    "\n",
    "    try:\n",
    "        while True:\n",
    "            message = input(\"Enter message (type 'quit' to exit): \")\n",
    "            if message.lower() == 'quit':\n",
    "                print(\"[DISCONNECT] Leaving the chat...\")\n",
    "                client_socket.close()\n",
    "                break\n",
    "            client_socket.sendall(message.encode())\n",
    "    except KeyboardInterrupt:\n",
    "        print(\"\\n[DISCONNECT] Client terminated by user.\")\n",
    "        client_socket.close()\n",
    "\n",
    "if __name__ == \"__main__\":\n",
    "    main()\n"
   ]
  },
  {
   "cell_type": "code",
   "execution_count": null,
   "id": "5a61a1d5-67dc-4765-be49-d846d2177ef2",
   "metadata": {},
   "outputs": [],
   "source": []
  }
 ],
 "metadata": {
  "kernelspec": {
   "display_name": "Python 3 (ipykernel)",
   "language": "python",
   "name": "python3"
  },
  "language_info": {
   "codemirror_mode": {
    "name": "ipython",
    "version": 3
   },
   "file_extension": ".py",
   "mimetype": "text/x-python",
   "name": "python",
   "nbconvert_exporter": "python",
   "pygments_lexer": "ipython3",
   "version": "3.11.13"
  }
 },
 "nbformat": 4,
 "nbformat_minor": 5
}
