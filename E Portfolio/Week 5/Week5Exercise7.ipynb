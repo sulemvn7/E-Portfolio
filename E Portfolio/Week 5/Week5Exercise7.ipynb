{
 "cells": [
  {
   "cell_type": "code",
   "execution_count": 1,
   "id": "e6ab2edd-91d0-4fb7-96d0-2ce1160c1964",
   "metadata": {},
   "outputs": [
    {
     "ename": "ModuleNotFoundError",
     "evalue": "No module named 'cryptography'",
     "output_type": "error",
     "traceback": [
      "\u001b[31m---------------------------------------------------------------------------\u001b[39m",
      "\u001b[31mModuleNotFoundError\u001b[39m                       Traceback (most recent call last)",
      "\u001b[36mCell\u001b[39m\u001b[36m \u001b[39m\u001b[32mIn[1]\u001b[39m\u001b[32m, line 1\u001b[39m\n\u001b[32m----> \u001b[39m\u001b[32m1\u001b[39m \u001b[38;5;28;01mfrom\u001b[39;00m\u001b[38;5;250m \u001b[39m\u001b[34;01mcryptography\u001b[39;00m\u001b[34;01m.\u001b[39;00m\u001b[34;01mfernet\u001b[39;00m\u001b[38;5;250m \u001b[39m\u001b[38;5;28;01mimport\u001b[39;00m Fernet\n\u001b[32m      3\u001b[39m \u001b[38;5;28;01mdef\u001b[39;00m\u001b[38;5;250m \u001b[39m\u001b[34mgenerate_cipher\u001b[39m():\n\u001b[32m      4\u001b[39m     key = Fernet.generate_key()\n",
      "\u001b[31mModuleNotFoundError\u001b[39m: No module named 'cryptography'"
     ]
    }
   ],
   "source": [
    "from cryptography.fernet import Fernet\n",
    "\n",
    "def generate_cipher():\n",
    "    key = Fernet.generate_key()\n",
    "    return Fernet(key), key\n",
    "\n",
    "def encrypt_message(cipher, message: bytes) -> bytes:\n",
    "    return cipher.encrypt(message)\n",
    "\n",
    "def decrypt_message(cipher, encrypted_message: bytes) -> str:\n",
    "    return cipher.decrypt(encrypted_message).decode()\n",
    "\n",
    "def main():\n",
    "    cipher, secret_key = generate_cipher()\n",
    "    print(f\"Generated key: {secret_key.decode()}\")\n",
    "\n",
    "    original_message = b\"Protecting the data with the power of encryption!\"\n",
    "    encrypted_msg = encrypt_message(cipher, original_message)\n",
    "    print(f\"Encrypted message: {encrypted_msg}\")\n",
    "\n",
    "    decrypted_msg = decrypt_message(cipher, encrypted_msg)\n",
    "    print(f\"Decrypted message: {decrypted_msg}\")\n",
    "\n",
    "if __name__ == \"__main__\":\n",
    "    main()\n"
   ]
  },
  {
   "cell_type": "code",
   "execution_count": null,
   "id": "72c06b9a-e4fa-4d24-88fa-04b8c839d91d",
   "metadata": {},
   "outputs": [],
   "source": []
  }
 ],
 "metadata": {
  "kernelspec": {
   "display_name": "Python 3 (ipykernel)",
   "language": "python",
   "name": "python3"
  },
  "language_info": {
   "codemirror_mode": {
    "name": "ipython",
    "version": 3
   },
   "file_extension": ".py",
   "mimetype": "text/x-python",
   "name": "python",
   "nbconvert_exporter": "python",
   "pygments_lexer": "ipython3",
   "version": "3.11.13"
  }
 },
 "nbformat": 4,
 "nbformat_minor": 5
}
