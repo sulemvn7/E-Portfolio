{
 "cells": [
  {
   "cell_type": "code",
   "execution_count": 2,
   "id": "f64773ea-ea7c-4256-b241-812560662a07",
   "metadata": {},
   "outputs": [
    {
     "ename": "PermissionError",
     "evalue": "[WinError 10013] An attempt was made to access a socket in a way forbidden by its access permissions",
     "output_type": "error",
     "traceback": [
      "\u001b[31m---------------------------------------------------------------------------\u001b[39m",
      "\u001b[31mPermissionError\u001b[39m                           Traceback (most recent call last)",
      "\u001b[36mCell\u001b[39m\u001b[36m \u001b[39m\u001b[32mIn[2]\u001b[39m\u001b[32m, line 53\u001b[39m\n\u001b[32m     50\u001b[39m         server.close()\n\u001b[32m     52\u001b[39m \u001b[38;5;28;01mif\u001b[39;00m \u001b[34m__name__\u001b[39m == \u001b[33m\"\u001b[39m\u001b[33m__main__\u001b[39m\u001b[33m\"\u001b[39m:\n\u001b[32m---> \u001b[39m\u001b[32m53\u001b[39m     run_server()\n",
      "\u001b[36mCell\u001b[39m\u001b[36m \u001b[39m\u001b[32mIn[2]\u001b[39m\u001b[32m, line 37\u001b[39m, in \u001b[36mrun_server\u001b[39m\u001b[34m(host, port)\u001b[39m\n\u001b[32m     35\u001b[39m server = socket.socket(socket.AF_INET, socket.SOCK_STREAM)\n\u001b[32m     36\u001b[39m server.setsockopt(socket.SOL_SOCKET, socket.SO_REUSEADDR, \u001b[32m1\u001b[39m)  \u001b[38;5;66;03m# Allow address reuse\u001b[39;00m\n\u001b[32m---> \u001b[39m\u001b[32m37\u001b[39m server.bind((host, port))\n\u001b[32m     38\u001b[39m server.listen(\u001b[32m5\u001b[39m)\n\u001b[32m     39\u001b[39m \u001b[38;5;28mprint\u001b[39m(\u001b[33mf\u001b[39m\u001b[33m\"\u001b[39m\u001b[33m[STARTED] Server listening on \u001b[39m\u001b[38;5;132;01m{\u001b[39;00mhost\u001b[38;5;132;01m}\u001b[39;00m\u001b[33m:\u001b[39m\u001b[38;5;132;01m{\u001b[39;00mport\u001b[38;5;132;01m}\u001b[39;00m\u001b[33m\"\u001b[39m)\n",
      "\u001b[31mPermissionError\u001b[39m: [WinError 10013] An attempt was made to access a socket in a way forbidden by its access permissions"
     ]
    }
   ],
   "source": [
    "import socket\n",
    "import threading\n",
    "\n",
    "active_clients = []\n",
    "\n",
    "def client_communication(conn, addr):\n",
    "    print(f\"[CONNECTED] Client at {addr} joined the chat.\")\n",
    "    active_clients.append(conn)\n",
    "\n",
    "    while True:\n",
    "        try:\n",
    "            incoming_msg = conn.recv(1024).decode('utf-8')\n",
    "            if not incoming_msg:\n",
    "                break\n",
    "            print(f\"[RECEIVED] {addr}: {incoming_msg}\")\n",
    "\n",
    "            # Relay message to all other connected clients\n",
    "            for client_conn in active_clients:\n",
    "                if client_conn != conn:\n",
    "                    try:\n",
    "                        client_conn.sendall(f\"{addr}: {incoming_msg}\".encode('utf-8'))\n",
    "                    except Exception:\n",
    "                        active_clients.remove(client_conn)\n",
    "                        client_conn.close()\n",
    "\n",
    "        except Exception as error:\n",
    "            print(f\"[ERROR] Communication with {addr} failed: {error}\")\n",
    "            break\n",
    "\n",
    "    print(f\"[DISCONNECTED] Client at {addr} left the chat.\")\n",
    "    active_clients.remove(conn)\n",
    "    conn.close()\n",
    "\n",
    "def run_server(host='127.0.0.1', port=65432):\n",
    "    server = socket.socket(socket.AF_INET, socket.SOCK_STREAM)\n",
    "    server.setsockopt(socket.SOL_SOCKET, socket.SO_REUSEADDR, 1)  # Allow address reuse\n",
    "    server.bind((host, port))\n",
    "    server.listen(5)\n",
    "    print(f\"[STARTED] Server listening on {host}:{port}\")\n",
    "\n",
    "    try:\n",
    "        while True:\n",
    "            client_conn, client_addr = server.accept()\n",
    "            thread = threading.Thread(target=client_communication, args=(client_conn, client_addr))\n",
    "            thread.daemon = True\n",
    "            thread.start()\n",
    "    except KeyboardInterrupt:\n",
    "        print(\"\\n[SHUTDOWN] Server is shutting down.\")\n",
    "    finally:\n",
    "        server.close()\n",
    "\n",
    "if __name__ == \"__main__\":\n",
    "    run_server()\n"
   ]
  },
  {
   "cell_type": "code",
   "execution_count": null,
   "id": "da3adfe9-0cee-468a-9964-cecfcda89056",
   "metadata": {},
   "outputs": [],
   "source": []
  }
 ],
 "metadata": {
  "kernelspec": {
   "display_name": "Python 3 (ipykernel)",
   "language": "python",
   "name": "python3"
  },
  "language_info": {
   "codemirror_mode": {
    "name": "ipython",
    "version": 3
   },
   "file_extension": ".py",
   "mimetype": "text/x-python",
   "name": "python",
   "nbconvert_exporter": "python",
   "pygments_lexer": "ipython3",
   "version": "3.11.13"
  }
 },
 "nbformat": 4,
 "nbformat_minor": 5
}
