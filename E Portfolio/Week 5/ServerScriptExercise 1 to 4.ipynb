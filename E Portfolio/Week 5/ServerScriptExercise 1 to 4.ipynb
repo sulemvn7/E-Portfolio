{
 "cells": [
  {
   "cell_type": "code",
   "execution_count": null,
   "id": "73544237-7412-4a71-b17a-3efab314fdf3",
   "metadata": {
    "scrolled": true
   },
   "outputs": [
    {
     "name": "stdout",
     "output_type": "stream",
     "text": [
      "The server is listening....\n"
     ]
    }
   ],
   "source": [
    "import socket\n",
    "\n",
    "def start_server():\n",
    "    host = 'localhost'\n",
    "    port = 65432\n",
    "\n",
    "    # Create and bind socket\n",
    "    listener = socket.socket(socket.AF_INET, socket.SOCK_STREAM)\n",
    "    listener.bind((host, port))\n",
    "    listener.listen(1)\n",
    "    print(\"The server is listening....\", flush=True)\n",
    "\n",
    "    while True:\n",
    "        connection, address = listener.accept()\n",
    "        print(f\"Client connected from: {address}\", flush=True)\n",
    "\n",
    "        try:\n",
    "            # Get initial message\n",
    "            message = connection.recv(1024).decode()\n",
    "            print(f\"Message received: {message}\", flush=True)\n",
    "            connection.sendall(b\"ACK: \" + message.encode())\n",
    "\n",
    "            # Receive and save file\n",
    "            with open('received_file.txt', 'wb') as f:\n",
    "                while True:\n",
    "                    part = connection.recv(1024)\n",
    "                    if not part:\n",
    "                        break\n",
    "                    f.write(part)\n",
    "            print(\"File has been receuved and will be saved as 'received_file.txt'.\", flush=True)\n",
    "        except Exception as e:\n",
    "            print(f\"Error handling file: {e}\", flush=True)\n",
    "        finally:\n",
    "            connection.close()\n",
    "\n",
    "if __name__ == \"__main__\":\n",
    "    start_server()\n",
    "\n",
    "\n"
   ]
  },
  {
   "cell_type": "code",
   "execution_count": null,
   "id": "257218ad-99dd-4631-84e8-39aa14932b59",
   "metadata": {},
   "outputs": [],
   "source": []
  }
 ],
 "metadata": {
  "kernelspec": {
   "display_name": "Python 3 (ipykernel)",
   "language": "python",
   "name": "python3"
  },
  "language_info": {
   "codemirror_mode": {
    "name": "ipython",
    "version": 3
   },
   "file_extension": ".py",
   "mimetype": "text/x-python",
   "name": "python",
   "nbconvert_exporter": "python",
   "pygments_lexer": "ipython3",
   "version": "3.11.13"
  }
 },
 "nbformat": 4,
 "nbformat_minor": 5
}
