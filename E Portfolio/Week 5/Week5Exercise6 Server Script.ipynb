{
 "cells": [
  {
   "cell_type": "code",
   "execution_count": null,
   "id": "aad6455d-918e-491c-9591-038d197cf82f",
   "metadata": {},
   "outputs": [],
   "source": [
    "import socket\n",
    "import threading\n",
    "\n",
    "def relay_messages(sender_sock, receiver_sock, sender_addr):\n",
    "    print(f\"[CONNECTED] Client {sender_addr} joined the chat.\")\n",
    "    try:\n",
    "        while True:\n",
    "            msg = sender_sock.recv(1024)\n",
    "            if not msg:\n",
    "                break\n",
    "\n",
    "            print(f\"[RECEIVED] From {sender_addr}: {msg.decode()}\")\n",
    "            if receiver_sock:\n",
    "                receiver_sock.sendall(msg)\n",
    "\n",
    "    except Exception as err:\n",
    "        print(f\"[ERROR] Connection issue with {sender_addr}: {err}\")\n",
    "    finally:\n",
    "        print(f\"[DISCONNECTED] Client {sender_addr} left the chat.\")\n",
    "        sender_sock.close()\n",
    "\n",
    "def start_server(host='127.0.0.1', port=65432):\n",
    "    server = socket.socket(socket.AF_INET, socket.SOCK_STREAM)\n",
    "    server.setsockopt(socket.SOL_SOCKET, socket.SO_REUSEADDR, 1)\n",
    "    server.bind((host, port))\n",
    "    server.listen(2)\n",
    "    print(f\"[STARTED] Server running on {host}:{port} - waiting for two clients...\")\n",
    "\n",
    "    client_a, addr_a = server.accept()\n",
    "    print(f\"[CLIENT CONNECTED] Client A from {addr_a}\")\n",
    "\n",
    "    client_b, addr_b = server.accept()\n",
    "    print(f\"[CLIENT CONNECTED] Client B from {addr_b}\")\n",
    "\n",
    "    client_a.sendall(b\"You are connected! Waiting for messages from Client B...\")\n",
    "    client_b.sendall(b\"You are connected! Waiting for messages from Client A...\")\n",
    "\n",
    "    thread_a = threading.Thread(target=relay_messages, args=(client_a, client_b, addr_a))\n",
    "    thread_b = threading.Thread(target=relay_messages, args=(client_b, client_a, addr_b))\n",
    "    thread_a.start()\n",
    "    thread_b.start()\n",
    "\n",
    "    thread_a.join()\n",
    "    thread_b.join()\n",
    "    server.close()\n",
    "    print(\"[SERVER] Server shutdown.\")\n",
    "\n",
    "if __name__ == \"__main__\":\n",
    "    start_server()\n"
   ]
  }
 ],
 "metadata": {
  "kernelspec": {
   "display_name": "Python 3 (ipykernel)",
   "language": "python",
   "name": "python3"
  },
  "language_info": {
   "codemirror_mode": {
    "name": "ipython",
    "version": 3
   },
   "file_extension": ".py",
   "mimetype": "text/x-python",
   "name": "python",
   "nbconvert_exporter": "python",
   "pygments_lexer": "ipython3",
   "version": "3.11.13"
  }
 },
 "nbformat": 4,
 "nbformat_minor": 5
}
