{
 "cells": [
  {
   "cell_type": "code",
   "execution_count": 1,
   "id": "042bd120-46a0-4e22-8988-441f78396480",
   "metadata": {},
   "outputs": [
    {
     "name": "stdout",
     "output_type": "stream",
     "text": [
      "Resolved IP for www.stanford.edu: 151.101.190.133\n",
      "\n",
      "Network Analysis Results:\n",
      "IP Address: 151.101.190.133\n",
      "Network Address: 151.101.190.0\n",
      "Subnet Mask: 255.255.255.0\n",
      "Broadcast Address: 151.101.190.255\n",
      "First Usable Host: 151.101.190.1\n",
      "Last Usable Host: 151.101.190.254\n",
      "Usable Host Count: 254\n",
      "Private Address: False\n",
      "Global Address: True\n"
     ]
    }
   ],
   "source": [
    "import socket\n",
    "import ipaddress\n",
    "\n",
    "def display_ip_info(ip_cidr):\n",
    "    try:\n",
    "        interface = ipaddress.ip_interface(ip_cidr)\n",
    "        network = interface.network\n",
    "\n",
    "        details = {\n",
    "            \"IP Address\": interface.ip,\n",
    "            \"Network Address\": network.network_address,\n",
    "            \"Subnet Mask\": interface.netmask,\n",
    "            \"Broadcast Address\": network.broadcast_address,\n",
    "            \"First Usable Host\": network.network_address + 1,\n",
    "            \"Last Usable Host\": network.broadcast_address - 1,\n",
    "            \"Usable Host Count\": network.num_addresses - 2,\n",
    "            \"Private Address\": interface.ip.is_private,\n",
    "            \"Global Address\": interface.ip.is_global\n",
    "        }\n",
    "\n",
    "        print(\"\\nNetwork Analysis Results:\")\n",
    "        for label, value in details.items():\n",
    "            print(f\"{label}: {value}\")\n",
    "\n",
    "    except ValueError as e:\n",
    "        print(f\"Invalid IP format: {e}\")\n",
    "\n",
    "def analyze_domain_ip(domain_name):\n",
    "    try:\n",
    "        resolved_ip = socket.gethostbyname(domain_name)\n",
    "        print(f\"Resolved IP for {domain_name}: {resolved_ip}\")\n",
    "        display_ip_info(f\"{resolved_ip}/24\")\n",
    "    except socket.gaierror:\n",
    "        print(f\"Unable to resolve domain: {domain_name}\")\n",
    "\n",
    "# Run analysis on Stanford university website\n",
    "if __name__ == \"__main__\":\n",
    "    analyze_domain_ip(\"www.stanford.edu\")\n"
   ]
  },
  {
   "cell_type": "code",
   "execution_count": null,
   "id": "3f75d980-223d-4fbe-8c1f-8271ec2f61c7",
   "metadata": {},
   "outputs": [],
   "source": []
  }
 ],
 "metadata": {
  "kernelspec": {
   "display_name": "Python 3 (ipykernel)",
   "language": "python",
   "name": "python3"
  },
  "language_info": {
   "codemirror_mode": {
    "name": "ipython",
    "version": 3
   },
   "file_extension": ".py",
   "mimetype": "text/x-python",
   "name": "python",
   "nbconvert_exporter": "python",
   "pygments_lexer": "ipython3",
   "version": "3.11.13"
  }
 },
 "nbformat": 4,
 "nbformat_minor": 5
}
