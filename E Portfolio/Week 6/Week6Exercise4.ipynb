{
 "cells": [
  {
   "cell_type": "code",
   "execution_count": null,
   "id": "42ef31ae-ea8b-4ec7-8104-63cdcace9cea",
   "metadata": {},
   "outputs": [],
   "source": [
    "import ipaddress\n",
    "\n",
    "def create_subnet_plan():\n",
    "    base_network = ipaddress.ip_network(\"10.0.0.0/16\")\n",
    "    print(f\"Base Network: {base_network}\\n\")\n",
    "\n",
    "    # Departments and subnet sizes (prefix lengths)\n",
    "    departments = [\n",
    "        {\"department\": \"IT Support\", \"prefix\": 26},\n",
    "        {\"department\": \"Sales\", \"prefix\": 27},\n",
    "        {\"department\": \"Legal\", \"prefix\": 28},\n",
    "        {\"department\": \"Admin\", \"prefix\": 29},\n",
    "    ]\n",
    "\n",
    "    next_available_ip = base_network.network_address\n",
    "\n",
    "    for entry in departments:\n",
    "        subnet = ipaddress.ip_network(f\"{next_available_ip}/{entry['prefix']}\", strict=False)\n",
    "        print(f\"{entry['department']} Subnet: {subnet}\")\n",
    "        print(f\" - First Host: {subnet.network_address + 1}\")\n",
    "        print(f\" - Last Host: {subnet.broadcast_address - 1}\")\n",
    "        print(f\" - Broadcast: {subnet.broadcast_address}\")\n",
    "        print(f\" - Usable Hosts: {subnet.num_addresses - 2}\\n\")\n",
    "\n",
    "        # Prepare for next subnet\n",
    "        next_available_ip = subnet.broadcast_address + 1\n",
    "\n",
    "# Run the subnet planner\n",
    "if __name__ == \"__main__\":\n",
    "    create_subnet_plan()\n"
   ]
  }
 ],
 "metadata": {
  "kernelspec": {
   "display_name": "Python 3 (ipykernel)",
   "language": "python",
   "name": "python3"
  },
  "language_info": {
   "codemirror_mode": {
    "name": "ipython",
    "version": 3
   },
   "file_extension": ".py",
   "mimetype": "text/x-python",
   "name": "python",
   "nbconvert_exporter": "python",
   "pygments_lexer": "ipython3",
   "version": "3.11.13"
  }
 },
 "nbformat": 4,
 "nbformat_minor": 5
}
