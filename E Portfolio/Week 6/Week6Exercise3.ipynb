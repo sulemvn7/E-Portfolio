{
 "cells": [
  {
   "cell_type": "code",
   "execution_count": null,
   "id": "042bd120-46a0-4e22-8988-441f78396480",
   "metadata": {},
   "outputs": [],
   "source": [
    "import socket\n",
    "import ipaddress\n",
    "\n",
    "def display_ip_info(ip_cidr):\n",
    "    try:\n",
    "        interface = ipaddress.ip_interface(ip_cidr)\n",
    "        network = interface.network\n",
    "\n",
    "        details = {\n",
    "            \"IP Address\": interface.ip,\n",
    "            \"Network Address\": network.network_address,\n",
    "            \"Subnet Mask\": interface.netmask,\n",
    "            \"Broadcast Address\": network.broadcast_address,\n",
    "            \"First Usable Host\": network.network_address + 1,\n",
    "            \"Last Usable Host\": network.broadcast_address - 1,\n",
    "            \"Usable Host Count\": network.num_addresses - 2,\n",
    "            \"Private Address\": interface.ip.is_private,\n",
    "            \"Global Address\": interface.ip.is_global\n",
    "        }\n",
    "\n",
    "        print(\"\\nNetwork Analysis Results:\")\n",
    "        for label, value in details.items():\n",
    "            print(f\"{label}: {value}\")\n",
    "\n",
    "    except ValueError as e:\n",
    "        print(f\"Invalid IP format: {e}\")\n",
    "\n",
    "def analyze_domain_ip(domain_name):\n",
    "    try:\n",
    "        resolved_ip = socket.gethostbyname(domain_name)\n",
    "        print(f\"Resolved IP for {domain_name}: {resolved_ip}\")\n",
    "        display_ip_info(f\"{resolved_ip}/24\")\n",
    "    except socket.gaierror:\n",
    "        print(f\"Unable to resolve domain: {domain_name}\")\n",
    "\n",
    "# Run analysis on a different university website\n",
    "if __name__ == \"__main__\":\n",
    "    analyze_domain_ip(\"www.stanford.edu\")\n"
   ]
  }
 ],
 "metadata": {
  "kernelspec": {
   "display_name": "Python 3 (ipykernel)",
   "language": "python",
   "name": "python3"
  },
  "language_info": {
   "codemirror_mode": {
    "name": "ipython",
    "version": 3
   },
   "file_extension": ".py",
   "mimetype": "text/x-python",
   "name": "python",
   "nbconvert_exporter": "python",
   "pygments_lexer": "ipython3",
   "version": "3.11.13"
  }
 },
 "nbformat": 4,
 "nbformat_minor": 5
}
