{
 "cells": [
  {
   "cell_type": "code",
   "execution_count": null,
   "id": "465b2937-a261-4329-b654-7d2a139534a1",
   "metadata": {},
   "outputs": [],
   "source": [
    "import socket\n",
    "import ipaddress\n",
    "\n",
    "def get_network_info(ip_with_cidr):\n",
    "    try:\n",
    "        interface = ipaddress.ip_interface(ip_with_cidr)\n",
    "        network = interface.network\n",
    "        ip = interface.ip\n",
    "\n",
    "        info = {\n",
    "            \"IP Address\": ip,\n",
    "            \"Network Address\": network.network_address,\n",
    "            \"Subnet Mask\": interface.netmask,\n",
    "            \"Broadcast Address\": network.broadcast_address,\n",
    "            \"First Usable Host\": network.network_address + 1,\n",
    "            \"Last Usable Host\": network.broadcast_address - 1,\n",
    "            \"Usable Host Count\": network.num_addresses - 2,\n",
    "            \"Private IP\": ip.is_private,\n",
    "            \"Global IP\": ip.is_global\n",
    "        }\n",
    "\n",
    "        for key, value in info.items():\n",
    "            print(f\"{key}: {value}\")\n",
    "\n",
    "        if network.num_addresses <= 256:\n",
    "            print(\"\\nHosts in this subnet:\")\n",
    "            for host in network.hosts():\n",
    "                print(host)\n",
    "\n",
    "    except ValueError as ve:\n",
    "        print(f\"Invalid IP format: {ve}\")\n",
    "\n",
    "\n",
    "def show_device_ip_info():\n",
    "    hostname = socket.gethostname()\n",
    "    local_ip = socket.gethostbyname(hostname)\n",
    "\n",
    "    print(f\"Device Name: {hostname}\")\n",
    "    print(f\"Device IP Address: {local_ip}\")\n",
    "    print(\"\\nAnalyzing network details...\\n\")\n",
    "\n",
    "    get_network_info(f\"{local_ip}/24\")  # Adjust the CIDR if needed\n",
    "\n",
    "\n",
    "if __name__ == \"__main__\":\n",
    "    show_device_ip_info()\n"
   ]
  }
 ],
 "metadata": {
  "kernelspec": {
   "display_name": "Python 3 (ipykernel)",
   "language": "python",
   "name": "python3"
  },
  "language_info": {
   "codemirror_mode": {
    "name": "ipython",
    "version": 3
   },
   "file_extension": ".py",
   "mimetype": "text/x-python",
   "name": "python",
   "nbconvert_exporter": "python",
   "pygments_lexer": "ipython3",
   "version": "3.11.13"
  }
 },
 "nbformat": 4,
 "nbformat_minor": 5
}
