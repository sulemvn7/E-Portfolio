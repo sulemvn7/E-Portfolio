{
 "cells": [
  {
   "cell_type": "code",
   "execution_count": null,
   "id": "f277c3fd-59af-45cd-bfca-a5d6acbaf50e",
   "metadata": {},
   "outputs": [],
   "source": [
    "#Check if a number is positive, negative or zero\n",
    "number = float(input (\"Enter a Number: \"))\n",
    "\n",
    "if number > 0:\n",
    "    print(\"This number is a postive number.\")\n",
    "elif number < 0:\n",
    "    print(\"This number is a negative number.\")\n",
    "else:\n",
    "    print(\"The number is zero\")\n",
    "    \n",
    "#Check if a string starts with a vowel or consonant\n",
    "string = input(\"Enter String: \").lower()\n",
    "if string [0] in \"aeiou\":\n",
    "    print(\"This string starts with a vowel.\")\n",
    "elif string[0].isalpha():\n",
    "    print(\"This string starts with a consonant. \")\n",
    "else:\n",
    "    print(\"The input does not start with a letter.\")\n",
    "    \n",
    "#Check if two numbers are equal or not\n",
    "n1 = float(input(\"Enter your first number: \"))\n",
    "n2 = float(input(\"Enter your second numnber: \"))\n",
    "if n1 == n2:\n",
    "    print (\"The numbers are the same\")\n",
    "else:\n",
    "    print(\"The numbers are different.\")"
   ]
  }
 ],
 "metadata": {
  "kernelspec": {
   "display_name": "Python 3 (ipykernel)",
   "language": "python",
   "name": "python3"
  },
  "language_info": {
   "codemirror_mode": {
    "name": "ipython",
    "version": 3
   },
   "file_extension": ".py",
   "mimetype": "text/x-python",
   "name": "python",
   "nbconvert_exporter": "python",
   "pygments_lexer": "ipython3",
   "version": "3.11.13"
  }
 },
 "nbformat": 4,
 "nbformat_minor": 5
}
