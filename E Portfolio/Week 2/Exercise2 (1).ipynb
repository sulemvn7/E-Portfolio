{
 "cells": [
  {
   "cell_type": "code",
   "execution_count": 1,
   "id": "8e932f3d-c6fc-4250-98df-500fc6ee2f3f",
   "metadata": {},
   "outputs": [
    {
     "name": "stdout",
     "output_type": "stream",
     "text": [
      "List of Sports: ['Football', 'Basketball', 'Tennis', 'Hockey', 'Cricket']\n",
      "Tuple of animals: ('dog', 'cat', 'mouse')\n",
      "Programming language dictionary: {'C': 1972, 'Python': 1995, 'Java': 1995}\n",
      "Countries Set: {'France', 'Russia', 'Germany'}\n",
      "Sentence: My name is Suleman and I love Computer Science.\n"
     ]
    }
   ],
   "source": [
    "#Create a list of 5 different Sports and print the list:\n",
    "sports = [\"Football\", \"Basketball\", \"Tennis\", \"Hockey\", \"Cricket\"]\n",
    "print(\"List of Sports:\", sports)\n",
    "\n",
    "#Create a tuple of 3 different animals and print the tuple\n",
    "animals = (\"dog\", \"cat\", \"mouse\")\n",
    "print(\"Tuple of animals:\", animals)\n",
    "\n",
    "#Create a dictionary where the keys are names of programming languages and the values are their release dates.\n",
    "languages = {\n",
    "    \"C\":1972,\n",
    "    \"Python\": 1995,\n",
    "    \"Java\": 1995\n",
    "}\n",
    "print(\"Programming language dictionary:\", languages)\n",
    "\n",
    "#Create a set of 3 different countries and print the set\n",
    "countries = {\"Russia\", \"Germany\", \"France\"}\n",
    "print (\"Countries Set:\", countries)\n",
    "\n",
    "#Create a string variable containing the sentence and print it\n",
    "sentence = \"My name is Suleman and I love Computer Science.\"\n",
    "print(\"Sentence:\", sentence)"
   ]
  },
  {
   "cell_type": "code",
   "execution_count": null,
   "id": "7580808f-b235-4100-a534-b300f3436697",
   "metadata": {},
   "outputs": [],
   "source": []
  }
 ],
 "metadata": {
  "kernelspec": {
   "display_name": "Python 3 (ipykernel)",
   "language": "python",
   "name": "python3"
  },
  "language_info": {
   "codemirror_mode": {
    "name": "ipython",
    "version": 3
   },
   "file_extension": ".py",
   "mimetype": "text/x-python",
   "name": "python",
   "nbconvert_exporter": "python",
   "pygments_lexer": "ipython3",
   "version": "3.11.13"
  }
 },
 "nbformat": 4,
 "nbformat_minor": 5
}
