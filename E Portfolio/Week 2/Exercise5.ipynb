{
 "cells": [
  {
   "cell_type": "code",
   "execution_count": 3,
   "id": "9b14aeea-ebe0-49a6-928d-c2cae47edd4a",
   "metadata": {},
   "outputs": [
    {
     "name": "stdout",
     "output_type": "stream",
     "text": [
      "The sum of the numbers are: 37\n",
      "The largest number is: 12\n",
      "The number of vowels in this text is: <function count_vowels at 0x000001F904A79300>\n"
     ]
    }
   ],
   "source": [
    "#Function to take two numbers and return the sum\n",
    "def add(num1, num2):\n",
    "    return num1 + num2\n",
    "\n",
    "#Example\n",
    "result = add(20, 17)\n",
    "print (f\"The sum of the numbers are: {result}\")\n",
    "\n",
    "#Function take list of numbers and return largest number in the list\n",
    "def find_largest(numb):\n",
    "    return max(numb)\n",
    "\n",
    "#Example\n",
    "numbers = [2, 5, 12, 1, 10]\n",
    "largest = find_largest(numbers)\n",
    "print(f\"The largest number is: {largest}\")\n",
    "\n",
    "#Function take string as parameter and return number of vowels in string\n",
    "def count_vowels (string):\n",
    "    vowels = \"AEIOUaeiou\"\n",
    "    count = sum(1 for char in string if char in vowels)\n",
    "    return count\n",
    "\n",
    "#Example\n",
    "text = \"I love Computer Science\"\n",
    "count_vowels = count_vowels(text)\n",
    "print(f\"The number of vowels in this text is: {count_vowels}\")"
   ]
  },
  {
   "cell_type": "code",
   "execution_count": null,
   "id": "0dc76202-76aa-48de-af2d-b62948a9425b",
   "metadata": {},
   "outputs": [],
   "source": []
  }
 ],
 "metadata": {
  "kernelspec": {
   "display_name": "Python 3 (ipykernel)",
   "language": "python",
   "name": "python3"
  },
  "language_info": {
   "codemirror_mode": {
    "name": "ipython",
    "version": 3
   },
   "file_extension": ".py",
   "mimetype": "text/x-python",
   "name": "python",
   "nbconvert_exporter": "python",
   "pygments_lexer": "ipython3",
   "version": "3.11.13"
  }
 },
 "nbformat": 4,
 "nbformat_minor": 5
}
