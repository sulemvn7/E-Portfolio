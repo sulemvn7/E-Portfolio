{
 "cells": [
  {
   "cell_type": "code",
   "execution_count": null,
   "id": "f1b9eb29-b3d1-497d-8b5a-77f0ff2e661e",
   "metadata": {},
   "outputs": [],
   "source": [
    "import random\n",
    "\n",
    "def hangman():\n",
    "    #List of words \n",
    "    word_list = [\"python\", \"java\", \"javascript\", \"hangman\", \"developer\", \"program\"]\n",
    "    word = random.choice(word_list)\n",
    "    max_guesses = 6\n",
    "    guessed_letters = []\n",
    "    incorrect_guesses = 0\n",
    "\n",
    "    # Display setup\n",
    "    display = [\"_\" for _ in word]\n",
    "\n",
    "    print(\"Welcome to Hangman!\\n\")\n",
    "\n",
    "    # Main game loop\n",
    "    while incorrect_guesses < max_guesses and \"_\" in display:\n",
    "        print(\"Current word: \" + \" \".join(display))\n",
    "        guess = input(\"Guess a letter: \").lower()\n",
    "\n",
    "        if not guess.isalpha() or len(guess) != 1:\n",
    "            print(\"Please enter a single alphabetic character.\\n\")\n",
    "            continue\n",
    "\n",
    "        if guess in guessed_letters:\n",
    "            print(\"You already guessed that letter. Try again.\\n\")\n",
    "            continue\n",
    "\n",
    "        guessed_letters.append(guess)\n",
    "\n",
    "        if guess in word:\n",
    "            # Reveal guessed letters\n",
    "            for i in range(len(word)):\n",
    "                if word[i] == guess:\n",
    "                    display[i] = guess\n",
    "        else:\n",
    "            incorrect_guesses += 1\n",
    "            print(f\"Wrong guess. You have {max_guesses - incorrect_guesses} guesses left.\\n\")\n",
    "\n",
    "    # Final game result\n",
    "    if \"_\" not in display:\n",
    "        print(\"\\n\" + \" \".join(display))\n",
    "        print(f\"Congratulations, you guessed the word \\\"{word}\\\"!\")\n",
    "    else:\n",
    "        print(f\"\\nGame over! The correct word was \\\"{word}\\\".\")\n",
    "\n",
    "# Run the game\n",
    "hangman()\n"
   ]
  }
 ],
 "metadata": {
  "kernelspec": {
   "display_name": "Python 3 (ipykernel)",
   "language": "python",
   "name": "python3"
  },
  "language_info": {
   "codemirror_mode": {
    "name": "ipython",
    "version": 3
   },
   "file_extension": ".py",
   "mimetype": "text/x-python",
   "name": "python",
   "nbconvert_exporter": "python",
   "pygments_lexer": "ipython3",
   "version": "3.11.13"
  }
 },
 "nbformat": 4,
 "nbformat_minor": 5
}
