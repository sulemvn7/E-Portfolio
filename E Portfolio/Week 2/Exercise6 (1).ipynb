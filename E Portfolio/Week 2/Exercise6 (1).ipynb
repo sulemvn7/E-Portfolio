{
 "cells": [
  {
   "cell_type": "code",
   "execution_count": 1,
   "id": "d223f8bf-ee5f-48fd-8653-3b40fc2c038b",
   "metadata": {},
   "outputs": [
    {
     "name": "stdin",
     "output_type": "stream",
     "text": [
      "Enter your Password:  weU#ddffffd\n"
     ]
    },
    {
     "name": "stdout",
     "output_type": "stream",
     "text": [
      "The password is strong.\n"
     ]
    }
   ],
   "source": [
    "def check_password(password):\n",
    "    has_Uppercase = any(char.isupper() for char in password)\n",
    "    has_Lowercase = any(char.islower() for char in password)\n",
    "    has_Other = any(char in \"£$#%*&!\" for char in password)\n",
    "    is_password_Long = len(password) >= 8\n",
    "    \n",
    "    #check if password meets the requirements\n",
    "    if has_Uppercase and has_Lowercase and has_Other and is_password_Long:\n",
    "        print(\"The password is strong.\")\n",
    "    else:\n",
    "        if not has_Uppercase:\n",
    "            print(\"The password should have at least one uppercase letter.\")\n",
    "        if not is_password_Long:\n",
    "            print(\"The password should contain at least 8 characters.\")\n",
    "        if not has_Lowercase:\n",
    "            print(\"The password should have at least one lowercase letter.\")\n",
    "        if not has_Other:\n",
    "            print(\"The password should have at least one other character (£, $, #, %, *, etc).\")\n",
    "            \n",
    "            \n",
    "        \n",
    "#Example\n",
    "password = input(\"Enter your Password: \")\n",
    "check_password(password)"
   ]
  },
  {
   "cell_type": "code",
   "execution_count": null,
   "id": "65bb461b-bf08-4c44-90b7-25c9676fa293",
   "metadata": {},
   "outputs": [],
   "source": []
  }
 ],
 "metadata": {
  "kernelspec": {
   "display_name": "Python 3 (ipykernel)",
   "language": "python",
   "name": "python3"
  },
  "language_info": {
   "codemirror_mode": {
    "name": "ipython",
    "version": 3
   },
   "file_extension": ".py",
   "mimetype": "text/x-python",
   "name": "python",
   "nbconvert_exporter": "python",
   "pygments_lexer": "ipython3",
   "version": "3.11.13"
  }
 },
 "nbformat": 4,
 "nbformat_minor": 5
}
