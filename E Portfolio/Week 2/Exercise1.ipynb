{
 "cells": [
  {
   "cell_type": "code",
   "execution_count": 2,
   "id": "eacbde57-92cb-4b49-9898-80fb88086d10",
   "metadata": {},
   "outputs": [
    {
     "name": "stdout",
     "output_type": "stream",
     "text": [
      "The result is: 5\n",
      "The result is: 23\n",
      "The answer is: 240\n",
      "The answer is: 6.5\n",
      "The remainder is: 0\n",
      "The answer of 2 to the power of 3 is: 8\n"
     ]
    }
   ],
   "source": [
    "#Addition\n",
    "n1 = 2\n",
    "n2 = 3\n",
    "result = n1 + n2\n",
    "print(f\"The result is: {result}\")\n",
    "\n",
    "#Subtraction\n",
    "n1 = 38\n",
    "n2 = 15\n",
    "result = n1 - n2\n",
    "print(f\"The result is: {result}\")\n",
    "\n",
    "#Multiplication \n",
    "n1 = 20\n",
    "n2 = 12\n",
    "result = n1 * n2\n",
    "print(f\"The answer is: {result}\")\n",
    "\n",
    "#Division \n",
    "n1 = 26\n",
    "n2 = 4\n",
    "result = n1 / n2\n",
    "print(f\"The answer is: {result}\")\n",
    "\n",
    "#Finding the remainder\n",
    "n1 = 20\n",
    "n2 = 4\n",
    "result = n1 % n2\n",
    "print (f\"The remainder is: {result}\")\n",
    "\n",
    "#Power of a number\n",
    "base = 2\n",
    "exponent  = 3\n",
    "result = base ** exponent\n",
    "print(f\"The answer of {base} to the power of {exponent} is: {result}\")"
   ]
  },
  {
   "cell_type": "code",
   "execution_count": null,
   "id": "e1ca2dd0-854f-4452-88c4-4b648b5a0462",
   "metadata": {},
   "outputs": [],
   "source": []
  }
 ],
 "metadata": {
  "kernelspec": {
   "display_name": "Python 3 (ipykernel)",
   "language": "python",
   "name": "python3"
  },
  "language_info": {
   "codemirror_mode": {
    "name": "ipython",
    "version": 3
   },
   "file_extension": ".py",
   "mimetype": "text/x-python",
   "name": "python",
   "nbconvert_exporter": "python",
   "pygments_lexer": "ipython3",
   "version": "3.11.13"
  }
 },
 "nbformat": 4,
 "nbformat_minor": 5
}
