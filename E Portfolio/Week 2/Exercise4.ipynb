{
 "cells": [
  {
   "cell_type": "code",
   "execution_count": null,
   "id": "6eba97de-5cb1-458d-b528-21080b028551",
   "metadata": {},
   "outputs": [],
   "source": [
    "#Print the numbers from 1 to 11 - for loop\n",
    "for num in range(1, 12):\n",
    "    print (num)\n",
    "    \n",
    "#Print the even numbers from 2 to 11 - for loop\n",
    "for num in range(2, 12, 2):\n",
    "    print(num)\n",
    "    \n",
    "# Print the first 5 numbers of the Fibonacci sequence - while loop\n",
    "a, b = 0, 1\n",
    "count = 0\n",
    "\n",
    "while count < 5:\n",
    "    print (a)\n",
    "    a, b = b, a + b \n",
    "    count += 1"
   ]
  }
 ],
 "metadata": {
  "kernelspec": {
   "display_name": "Python 3 (ipykernel)",
   "language": "python",
   "name": "python3"
  },
  "language_info": {
   "codemirror_mode": {
    "name": "ipython",
    "version": 3
   },
   "file_extension": ".py",
   "mimetype": "text/x-python",
   "name": "python",
   "nbconvert_exporter": "python",
   "pygments_lexer": "ipython3",
   "version": "3.11.13"
  }
 },
 "nbformat": 4,
 "nbformat_minor": 5
}
