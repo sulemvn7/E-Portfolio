{
 "cells": [
  {
   "cell_type": "code",
   "execution_count": 1,
   "id": "6eba97de-5cb1-458d-b528-21080b028551",
   "metadata": {},
   "outputs": [
    {
     "name": "stdout",
     "output_type": "stream",
     "text": [
      "1\n",
      "2\n",
      "3\n",
      "4\n",
      "5\n",
      "6\n",
      "7\n",
      "8\n",
      "9\n",
      "10\n",
      "11\n",
      "2\n",
      "4\n",
      "6\n",
      "8\n",
      "10\n",
      "0\n",
      "1\n",
      "1\n",
      "2\n",
      "3\n"
     ]
    }
   ],
   "source": [
    "#Print the numbers from 1 to 11 - for loop\n",
    "for num in range(1, 12):\n",
    "    print (num)\n",
    "    \n",
    "#Print the even numbers from 2 to 11 - for loop\n",
    "for num in range(2, 12, 2):\n",
    "    print(num)\n",
    "    \n",
    "# Print the first 5 numbers of the Fibonacci sequence - while loop\n",
    "a, b = 0, 1\n",
    "count = 0\n",
    "\n",
    "while count < 5:\n",
    "    print (a)\n",
    "    a, b = b, a + b \n",
    "    count += 1"
   ]
  },
  {
   "cell_type": "code",
   "execution_count": null,
   "id": "36d2fa15-541d-4545-b5d7-bc64ed383826",
   "metadata": {},
   "outputs": [],
   "source": []
  }
 ],
 "metadata": {
  "kernelspec": {
   "display_name": "Python 3 (ipykernel)",
   "language": "python",
   "name": "python3"
  },
  "language_info": {
   "codemirror_mode": {
    "name": "ipython",
    "version": 3
   },
   "file_extension": ".py",
   "mimetype": "text/x-python",
   "name": "python",
   "nbconvert_exporter": "python",
   "pygments_lexer": "ipython3",
   "version": "3.11.13"
  }
 },
 "nbformat": 4,
 "nbformat_minor": 5
}
