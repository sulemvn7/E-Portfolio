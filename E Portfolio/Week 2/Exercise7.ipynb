{
 "cells": [
  {
   "cell_type": "code",
   "execution_count": 1,
   "id": "24732115-fc8e-4d02-8d45-01c43823a809",
   "metadata": {},
   "outputs": [
    {
     "name": "stdin",
     "output_type": "stream",
     "text": [
      "Enter a message:  ecjrkelflrekferjfrerfl\n",
      "Enter the key (number):  4\n",
      "Enter mode ('Encrypt' or 'Decrypt'):  Encrypt\n"
     ]
    },
    {
     "name": "stdout",
     "output_type": "stream",
     "text": [
      "\n",
      "Result: ignvoipjpviojivnjvivjp\n"
     ]
    }
   ],
   "source": [
    "def caesar_cipher(message, key, mode):\n",
    "    result = \"\"\n",
    "    \n",
    "    for char in message:\n",
    "        if char.isalpha():\n",
    "            ascii_offset = 65 if char.isupper() else 97\n",
    "            \n",
    "            if mode == \"Encrypt\":\n",
    "                new_char = chr((ord(char) - ascii_offset + key) % 26 + ascii_offset)\n",
    "            elif mode == \"Decrypt\":\n",
    "                new_char = chr((ord(char) - ascii_offset - key) % 26 + ascii_offset)\n",
    "            else:\n",
    "                return \"Invalid mode! Use 'Encrypt' or 'Decrypt'.\"\n",
    "                \n",
    "            result += new_char\n",
    "        else:\n",
    "            result += char\n",
    "            \n",
    "    return result\n",
    "\n",
    "# Input from user\n",
    "message = input(\"Enter a message: \")\n",
    "key = int(input(\"Enter the key (number): \"))\n",
    "mode = input(\"Enter mode ('Encrypt' or 'Decrypt'): \")\n",
    "\n",
    "# Call the function\n",
    "output = caesar_cipher(message, key, mode)\n",
    "\n",
    "# Display result\n",
    "print(f\"\\nResult: {output}\")\n"
   ]
  },
  {
   "cell_type": "code",
   "execution_count": null,
   "id": "7a46ec1b-479f-40be-88be-2c3b97590ff3",
   "metadata": {},
   "outputs": [],
   "source": []
  }
 ],
 "metadata": {
  "kernelspec": {
   "display_name": "Python 3 (ipykernel)",
   "language": "python",
   "name": "python3"
  },
  "language_info": {
   "codemirror_mode": {
    "name": "ipython",
    "version": 3
   },
   "file_extension": ".py",
   "mimetype": "text/x-python",
   "name": "python",
   "nbconvert_exporter": "python",
   "pygments_lexer": "ipython3",
   "version": "3.11.13"
  }
 },
 "nbformat": 4,
 "nbformat_minor": 5
}
